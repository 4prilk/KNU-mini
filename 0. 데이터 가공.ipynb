{
 "cells": [
  {
   "cell_type": "code",
   "execution_count": 1,
   "metadata": {},
   "outputs": [],
   "source": [
    "import pandas as pd\n",
    "import os"
   ]
  },
  {
   "cell_type": "markdown",
   "metadata": {},
   "source": [
    "1. 베스트 & 워스트셀러 라벨링"
   ]
  },
  {
   "cell_type": "code",
   "execution_count": 2,
   "metadata": {},
   "outputs": [],
   "source": [
    "# txt확장자의 엑셀파일을 csv로 일괄변환 후 작업\n",
    "path = 'C:/Users/User/Downloads/16 미니 프로젝트/data/'\n",
    "file_list = os.listdir(path)\n",
    "file_list_py = [file for file in file_list if file.endswith('.csv')]"
   ]
  },
  {
   "cell_type": "code",
   "execution_count": null,
   "metadata": {},
   "outputs": [],
   "source": [
    "df = pd.DataFrame()\n",
    "for i in file_list_py:\n",
    "    # 데이터 불러오기\n",
    "    data = pd.read_csv(path + i)\n",
    "    \n",
    "    # 라벨링\n",
    "    best = data.iloc[:200,:]\n",
    "    worst = data.iloc[800:1000,:]\n",
    "    best.insert(2,'label',1)\n",
    "    worst.insert(2,'label',0)\n",
    "\n",
    "    for k in range(108):\n",
    "            globals()['b{}'.format(k+1)]= best\n",
    "            globals()['w{}'.format(k+1)] = worst\n",
    "\n",
    "    df = pd.concat([df,globals()['b{}'.format(k+1)],globals()['w{}'.format(k+1)]])\n",
    "\n",
    "orig = df.copy()"
   ]
  },
  {
   "cell_type": "markdown",
   "metadata": {},
   "source": [
    "# 데이터셋 합치기"
   ]
  },
  {
   "cell_type": "code",
   "execution_count": 8,
   "metadata": {},
   "outputs": [],
   "source": [
    "df = pd.DataFrame()\n",
    "for i in file_list_py:\n",
    "    # 데이터 불러오기\n",
    "    data = pd.read_csv(path + i, encoding='utf-8')\n",
    "    df = pd.concat([df,data])\n",
    "\n",
    "merge = df.copy()"
   ]
  },
  {
   "cell_type": "code",
   "execution_count": 9,
   "metadata": {},
   "outputs": [],
   "source": [
    "# ISBN 기준으로 중복 제거\n",
    "df_drop=merge.drop_duplicates('ISBN')"
   ]
  },
  {
   "cell_type": "code",
   "execution_count": 10,
   "metadata": {},
   "outputs": [],
   "source": [
    "df_drop.to_csv('all.csv',encoding='cp949',index=False)"
   ]
  },
  {
   "cell_type": "markdown",
   "metadata": {},
   "source": [
    "2. 컬럼 추출"
   ]
  },
  {
   "cell_type": "code",
   "execution_count": 6,
   "metadata": {},
   "outputs": [],
   "source": [
    "# ISBN 기준으로 중복 제거\n",
    "df_drop=orig.drop_duplicates('ISBN')\n",
    "\n",
    "all = df_drop[['상품명','label']]"
   ]
  },
  {
   "cell_type": "code",
   "execution_count": 12,
   "metadata": {},
   "outputs": [],
   "source": [
    "all.to_csv('Science.csv',encoding='cp949',index=False)"
   ]
  }
 ],
 "metadata": {
  "interpreter": {
   "hash": "8fac594bfae6525c0c41b4041d2d72effa188cc8ead05f81b1fab2bb098927fb"
  },
  "kernelspec": {
   "display_name": "Python 3.9.7 ('base')",
   "language": "python",
   "name": "python3"
  },
  "language_info": {
   "codemirror_mode": {
    "name": "ipython",
    "version": 3
   },
   "file_extension": ".py",
   "mimetype": "text/x-python",
   "name": "python",
   "nbconvert_exporter": "python",
   "pygments_lexer": "ipython3",
   "version": "3.9.7"
  },
  "orig_nbformat": 4
 },
 "nbformat": 4,
 "nbformat_minor": 2
}
